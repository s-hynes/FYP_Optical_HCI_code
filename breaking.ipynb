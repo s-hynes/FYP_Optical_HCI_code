{
 "cells": [
  {
   "cell_type": "markdown",
   "metadata": {},
   "source": [
    "I put in some code to raise a value error in the function splice_rows if anything other than \"0\" or \"pi\" is inputted as the phase, and the code in the cell below is testing this to make sure that it works."
   ]
  },
  {
   "cell_type": "code",
   "execution_count": 2,
   "metadata": {},
   "outputs": [
    {
     "ename": "ValueError",
     "evalue": "Phase must be 0 or pi.",
     "output_type": "error",
     "traceback": [
      "\u001b[1;31m---------------------------------------------------------------------------\u001b[0m",
      "\u001b[1;31mValueError\u001b[0m                                Traceback (most recent call last)",
      "Cell \u001b[1;32mIn[2], line 9\u001b[0m\n\u001b[0;32m      6\u001b[0m zero    \u001b[38;5;241m=\u001b[39m double_phase_mode(fits)[\u001b[38;5;241m0\u001b[39m]\n\u001b[0;32m      7\u001b[0m pi      \u001b[38;5;241m=\u001b[39m double_phase_mode(fits)[\u001b[38;5;241m1\u001b[39m]\n\u001b[1;32m----> 9\u001b[0m ord_0 \u001b[38;5;241m=\u001b[39m \u001b[43msplice_rows\u001b[49m\u001b[43m(\u001b[49m\u001b[43moverscan\u001b[49m\u001b[43m(\u001b[49m\u001b[43mzero\u001b[49m\u001b[43m)\u001b[49m\u001b[43m,\u001b[49m\u001b[43m \u001b[49m\u001b[43mphase\u001b[49m\u001b[38;5;241;43m=\u001b[39;49m\u001b[38;5;124;43m\"\u001b[39;49m\u001b[38;5;124;43mcow\u001b[39;49m\u001b[38;5;124;43m\"\u001b[39;49m\u001b[43m)\u001b[49m[\u001b[38;5;241m0\u001b[39m]\n",
      "File \u001b[1;32mc:\\Users\\Stephen\\OneDrive - National University of Ireland, Galway\\24-25 FYP\\project-code\\step3.py:11\u001b[0m, in \u001b[0;36msplice_rows\u001b[1;34m(img, phase)\u001b[0m\n\u001b[0;32m      5\u001b[0m \u001b[38;5;250m\u001b[39m\u001b[38;5;124;03m\"\"\"This function splices the rows of the image into the two mutually orthogonal\u001b[39;00m\n\u001b[0;32m      6\u001b[0m \u001b[38;5;124;03mpolarisation directions. \u001b[39;00m\n\u001b[0;32m      7\u001b[0m \u001b[38;5;124;03m\u001b[39;00m\n\u001b[0;32m      8\u001b[0m \u001b[38;5;124;03mIt returns a tuple where the 1st element is the intensity of the ordinary ray and the 2nd is the intensity of the extraordinary ray.\"\"\"\u001b[39;00m\n\u001b[0;32m     10\u001b[0m \u001b[38;5;28;01mif\u001b[39;00m phase \u001b[38;5;129;01mnot\u001b[39;00m \u001b[38;5;129;01min\u001b[39;00m {\u001b[38;5;124m\"\u001b[39m\u001b[38;5;124m0\u001b[39m\u001b[38;5;124m\"\u001b[39m, \u001b[38;5;124m\"\u001b[39m\u001b[38;5;124mpi\u001b[39m\u001b[38;5;124m\"\u001b[39m}:\n\u001b[1;32m---> 11\u001b[0m     \u001b[38;5;28;01mraise\u001b[39;00m \u001b[38;5;167;01mValueError\u001b[39;00m(\u001b[38;5;124m\"\u001b[39m\u001b[38;5;124mPhase must be 0 or pi.\u001b[39m\u001b[38;5;124m\"\u001b[39m)\n\u001b[0;32m     13\u001b[0m \u001b[38;5;250m\u001b[39m\u001b[38;5;124;03m\"\"\"I don't know if it's good practice to put a return inside an if statement like this.\"\"\"\u001b[39;00m\n\u001b[0;32m     14\u001b[0m \u001b[38;5;28;01mif\u001b[39;00m phase\u001b[38;5;241m==\u001b[39m\u001b[38;5;124m\"\u001b[39m\u001b[38;5;124m0\u001b[39m\u001b[38;5;124m\"\u001b[39m:\n\u001b[0;32m     15\u001b[0m     \u001b[38;5;66;03m#im_pol2 = img[:, 2, :]\u001b[39;00m\n",
      "\u001b[1;31mValueError\u001b[0m: Phase must be 0 or pi."
     ]
    }
   ],
   "source": [
    "from step1 import double_phase_mode, overscan\n",
    "from step3 import splice_rows\n",
    "\n",
    "fits = \"C:/Users/Stephen/OneDrive - National University of Ireland, Galway/24-25 FYP/project-code/ESO-test-data/SPHER.2016-03-31T02_30_30.441.fits\"\n",
    "\n",
    "zero    = double_phase_mode(fits)[0]\n",
    "pi      = double_phase_mode(fits)[1]\n",
    "\n",
    "ord_0 = splice_rows(overscan(zero), phase=\"cow\")[0]"
   ]
  }
 ],
 "metadata": {
  "kernelspec": {
   "display_name": "Python 3",
   "language": "python",
   "name": "python3"
  },
  "language_info": {
   "codemirror_mode": {
    "name": "ipython",
    "version": 3
   },
   "file_extension": ".py",
   "mimetype": "text/x-python",
   "name": "python",
   "nbconvert_exporter": "python",
   "pygments_lexer": "ipython3",
   "version": "3.12.3"
  }
 },
 "nbformat": 4,
 "nbformat_minor": 2
}

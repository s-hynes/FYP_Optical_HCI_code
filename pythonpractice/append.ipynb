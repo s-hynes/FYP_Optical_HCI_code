{
 "cells": [
  {
   "cell_type": "code",
   "execution_count": 1,
   "metadata": {},
   "outputs": [
    {
     "name": "stdout",
     "output_type": "stream",
     "text": [
      "[[ 1  2  3  4  5  6  7  8  9 10]\n",
      " [ 1  2  3  4  5  6  7  8  9 10]\n",
      " [ 1  2  3  4  5  6  7  8  9 10]\n",
      " [ 1  2  3  4  5  6  7  8  9 10]\n",
      " [ 1  2  3  4  5  6  7  8  9 10]] \n",
      "\n"
     ]
    }
   ],
   "source": [
    "import numpy as np\n",
    "\n",
    "arr1 = np.array([[1,2,3,4,5],\n",
    "                 [1,2,3,4,5],\n",
    "                 [1,2,3,4,5],\n",
    "                 [1,2,3,4,5],\n",
    "                 [1,2,3,4,5]])\n",
    "\n",
    "arr2 = np.array([[6,7,8,9,10],\n",
    "                 [6,7,8,9,10],\n",
    "                 [6,7,8,9,10],\n",
    "                 [6,7,8,9,10],\n",
    "                 [6,7,8,9,10]])\n",
    "\n",
    "arr3 = np.append(arr1, arr2, axis=1)\n",
    "print(arr3, \"\\n\")"
   ]
  },
  {
   "cell_type": "code",
   "execution_count": 28,
   "metadata": {},
   "outputs": [
    {
     "name": "stdout",
     "output_type": "stream",
     "text": [
      "[[1. 1. 1. 1. 1. 1. 1. 1.]\n",
      " [1. 1. 1. 1. 1. 1. 1. 1.]\n",
      " [1. 1. 1. 1. 1. 1. 1. 1.]\n",
      " [1. 1. 1. 1. 1. 1. 1. 1.]\n",
      " [1. 1. 1. 1. 1. 1. 1. 1.]\n",
      " [1. 1. 1. 1. 1. 1. 1. 1.]\n",
      " [1. 1. 1. 1. 1. 1. 1. 1.]\n",
      " [1. 1. 1. 1. 1. 1. 1. 1.]]\n",
      "\n",
      " [[[1. 1. 1. 1. 1. 1. 1. 1.]\n",
      "  [1. 1. 1. 1. 1. 1. 1. 1.]\n",
      "  [1. 1. 1. 1. 1. 1. 1. 1.]\n",
      "  [1. 1. 1. 1. 1. 1. 1. 1.]\n",
      "  [1. 1. 1. 1. 1. 1. 1. 1.]\n",
      "  [1. 1. 1. 1. 1. 1. 1. 1.]\n",
      "  [1. 1. 1. 1. 1. 1. 1. 1.]\n",
      "  [1. 1. 1. 1. 1. 1. 1. 1.]]\n",
      "\n",
      " [[1. 1. 1. 1. 1. 1. 1. 1.]\n",
      "  [1. 1. 1. 1. 1. 1. 1. 1.]\n",
      "  [1. 1. 1. 1. 1. 1. 1. 1.]\n",
      "  [1. 1. 1. 1. 1. 1. 1. 1.]\n",
      "  [1. 1. 1. 1. 1. 1. 1. 1.]\n",
      "  [1. 1. 1. 1. 1. 1. 1. 1.]\n",
      "  [1. 1. 1. 1. 1. 1. 1. 1.]\n",
      "  [1. 1. 1. 1. 1. 1. 1. 1.]]\n",
      "\n",
      " [[1. 1. 1. 1. 1. 1. 1. 1.]\n",
      "  [1. 1. 1. 1. 1. 1. 1. 1.]\n",
      "  [1. 1. 1. 1. 1. 1. 1. 1.]\n",
      "  [1. 1. 1. 1. 1. 1. 1. 1.]\n",
      "  [1. 1. 1. 1. 1. 1. 1. 1.]\n",
      "  [1. 1. 1. 1. 1. 1. 1. 1.]\n",
      "  [1. 1. 1. 1. 1. 1. 1. 1.]\n",
      "  [1. 1. 1. 1. 1. 1. 1. 1.]]\n",
      "\n",
      " [[1. 1. 1. 1. 1. 1. 1. 1.]\n",
      "  [1. 1. 1. 1. 1. 1. 1. 1.]\n",
      "  [1. 1. 1. 1. 1. 1. 1. 1.]\n",
      "  [1. 1. 1. 1. 1. 1. 1. 1.]\n",
      "  [1. 1. 1. 1. 1. 1. 1. 1.]\n",
      "  [1. 1. 1. 1. 1. 1. 1. 1.]\n",
      "  [1. 1. 1. 1. 1. 1. 1. 1.]\n",
      "  [1. 1. 1. 1. 1. 1. 1. 1.]]]\n"
     ]
    }
   ],
   "source": [
    " \n",
    "array = np.zeros(shape=(1,8,8))\n",
    "array2 = np.ones(shape=(8,8))\n",
    "print(array2)\n",
    "\n",
    "for i in range(1,5):\n",
    "    array = np.append(array, array2.reshape(1,8,8), axis=0)\n",
    "print(\"\\n\", array[1:, :, :])"
   ]
  },
  {
   "cell_type": "code",
   "execution_count": 1,
   "metadata": {},
   "outputs": [
    {
     "ename": "NameError",
     "evalue": "name 'array8' is not defined",
     "output_type": "error",
     "traceback": [
      "\u001b[1;31m---------------------------------------------------------------------------\u001b[0m",
      "\u001b[1;31mNameError\u001b[0m                                 Traceback (most recent call last)",
      "Cell \u001b[1;32mIn[1], line 6\u001b[0m\n\u001b[0;32m      3\u001b[0m array7 \u001b[38;5;241m=\u001b[39m np\u001b[38;5;241m.\u001b[39mones(shape\u001b[38;5;241m=\u001b[39m(\u001b[38;5;241m8\u001b[39m,\u001b[38;5;241m8\u001b[39m))\n\u001b[0;32m      5\u001b[0m \u001b[38;5;28;01mfor\u001b[39;00m i \u001b[38;5;129;01min\u001b[39;00m \u001b[38;5;28mrange\u001b[39m(\u001b[38;5;241m1\u001b[39m,\u001b[38;5;241m5\u001b[39m):\n\u001b[1;32m----> 6\u001b[0m     array8 \u001b[38;5;241m=\u001b[39m np\u001b[38;5;241m.\u001b[39mappend(\u001b[43marray8\u001b[49m, array7\u001b[38;5;241m.\u001b[39mreshape(\u001b[38;5;241m1\u001b[39m,\u001b[38;5;241m8\u001b[39m,\u001b[38;5;241m8\u001b[39m), axis\u001b[38;5;241m=\u001b[39m\u001b[38;5;241m0\u001b[39m)\n\u001b[0;32m      7\u001b[0m \u001b[38;5;28mprint\u001b[39m(\u001b[38;5;124m\"\u001b[39m\u001b[38;5;130;01m\\n\u001b[39;00m\u001b[38;5;124m\"\u001b[39m, array[:, :, :])\n",
      "\u001b[1;31mNameError\u001b[0m: name 'array8' is not defined"
     ]
    }
   ],
   "source": [
    "import numpy as np\n",
    "\n",
    "array7 = np.ones(shape=(8,8))\n",
    "\n",
    "for i in range(1,5):\n",
    "    array8 = np.append(array8, array7.reshape(1,8,8), axis=0)\n",
    "print(\"\\n\", array[:, :, :])"
   ]
  },
  {
   "cell_type": "code",
   "execution_count": 15,
   "metadata": {},
   "outputs": [
    {
     "name": "stdout",
     "output_type": "stream",
     "text": [
      "(5, 5)\n",
      "(1, 5, 5)\n",
      "\n",
      " [[[ 1  2  3  4  5]\n",
      "  [ 1  2  3  4  5]\n",
      "  [ 1  2  3  4  5]\n",
      "  [ 1  2  3  4  5]\n",
      "  [ 1  2  3  4  5]]\n",
      "\n",
      " [[ 6  7  8  9 10]\n",
      "  [ 6  7  8  9 10]\n",
      "  [ 6  7  8  9 10]\n",
      "  [ 6  7  8  9 10]\n",
      "  [ 6  7  8  9 10]]\n",
      "\n",
      " [[ 6  7  8  9 10]\n",
      "  [ 6  7  8  9 10]\n",
      "  [ 6  7  8  9 10]\n",
      "  [ 6  7  8  9 10]\n",
      "  [ 6  7  8  9 10]]\n",
      "\n",
      " [[ 6  7  8  9 10]\n",
      "  [ 6  7  8  9 10]\n",
      "  [ 6  7  8  9 10]\n",
      "  [ 6  7  8  9 10]\n",
      "  [ 6  7  8  9 10]]\n",
      "\n",
      " [[ 6  7  8  9 10]\n",
      "  [ 6  7  8  9 10]\n",
      "  [ 6  7  8  9 10]\n",
      "  [ 6  7  8  9 10]\n",
      "  [ 6  7  8  9 10]]]\n",
      "\n",
      " (5, 5, 5)\n"
     ]
    }
   ],
   "source": [
    "arr4 = arr1.reshape(1,5,5)\n",
    "arr5 = arr2.reshape(1,5,5)\n",
    "\n",
    "print(arr1.shape)\n",
    "print(arr4.shape)\n",
    "\n",
    "arr6 = np.append(arr4, arr5, axis=0)\n",
    "\n",
    "for i in range(1,4):\n",
    "    arr6 = np.append(arr6, arr5, axis=0)\n",
    "\n",
    "print(\"\\n\", arr6)\n",
    "print(\"\\n\", arr6.shape)"
   ]
  },
  {
   "cell_type": "code",
   "execution_count": 5,
   "metadata": {},
   "outputs": [
    {
     "name": "stdout",
     "output_type": "stream",
     "text": [
      "Thu Mar  6 21:20:55 2025\n"
     ]
    }
   ],
   "source": [
    "import time\n",
    "print(time.ctime())"
   ]
  }
 ],
 "metadata": {
  "kernelspec": {
   "display_name": "Python 3",
   "language": "python",
   "name": "python3"
  },
  "language_info": {
   "codemirror_mode": {
    "name": "ipython",
    "version": 3
   },
   "file_extension": ".py",
   "mimetype": "text/x-python",
   "name": "python",
   "nbconvert_exporter": "python",
   "pygments_lexer": "ipython3",
   "version": "3.12.3"
  }
 },
 "nbformat": 4,
 "nbformat_minor": 2
}
